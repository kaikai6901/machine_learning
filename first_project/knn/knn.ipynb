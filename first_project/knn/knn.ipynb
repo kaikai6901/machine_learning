{
 "cells": [
  {
   "cell_type": "code",
   "execution_count": 1,
   "id": "ac0d71c2",
   "metadata": {},
   "outputs": [
    {
     "name": "stdout",
     "output_type": "stream",
     "text": [
      "3.9.5 (tags/v3.9.5:0a7dcbd, May  3 2021, 17:27:52) [MSC v.1928 64 bit (AMD64)]\n"
     ]
    }
   ],
   "source": [
    "import numpy as np\n",
    "import matplotlib.pyplot as plt\n",
    "import sys\n",
    "print(sys.version)\n",
    "\n",
    "from sklearn import neighbors, datasets\n"
   ]
  },
  {
   "cell_type": "markdown",
   "id": "7b7aa70c",
   "metadata": {},
   "source": [
    "load du lieu va hien thi vai du lieu mau"
   ]
  },
  {
   "cell_type": "code",
   "execution_count": 3,
   "id": "e5bce61f",
   "metadata": {},
   "outputs": [],
   "source": [
    "iris = datasets.load_iris()\n",
    "iris_X = iris.data\n",
    "iris_y = iris.target\n",
    "\n",
    "X0 = iris_X[iris_y == 0, :]\n",
    "X1 = iris_X[iris_y == 1, :]\n",
    "X2 = iris_X[iris_y == 2, :]\n"
   ]
  },
  {
   "cell_type": "code",
   "execution_count": 18,
   "id": "0aa83086",
   "metadata": {},
   "outputs": [
    {
     "name": "stdout",
     "output_type": "stream",
     "text": [
      "Accuracy of NN: 98.00 %\n",
      "Accuracy of NN: 98.00 %\n",
      "Accuracy of NN: 96.00 %\n",
      "Accuracy of NN: 98.00 %\n"
     ]
    }
   ],
   "source": [
    "from sklearn.model_selection import train_test_split\n",
    "from sklearn.metrics import accuracy_score\n",
    "\n",
    "X_train, X_test, y_train, y_test = train_test_split(iris_X, iris_y, test_size= 50)\n",
    "for K in range(1,5):\n",
    "    #p la khoang cach duoc tinh the norm 2\n",
    "    clf = neighbors.KNeighborsClassifier(n_neighbors= K, p= 2)\n",
    "    clf.fit(X_train, y_train)\n",
    "    y_pred = clf.predict(X_test)\n",
    "    \n",
    "    print(\"Accuracy of NN: %.2f %%\" %(100*accuracy_score(y_test, y_pred)))"
   ]
  },
  {
   "cell_type": "code",
   "execution_count": 29,
   "id": "e1c8968a",
   "metadata": {},
   "outputs": [
    {
     "name": "stdout",
     "output_type": "stream",
     "text": [
      "Accuracy of NN (1/distance weights): 98.00 %\n",
      "Accuracy of NN (1/distance weights): 98.00 %\n",
      "Accuracy of NN (1/distance weights): 96.00 %\n",
      "Accuracy of NN (1/distance weights): 98.00 %\n",
      "Accuracy of NN (1/distance weights): 98.00 %\n",
      "Accuracy of NN (1/distance weights): 100.00 %\n",
      "Accuracy of NN (1/distance weights): 98.00 %\n",
      "Accuracy of NN (1/distance weights): 100.00 %\n",
      "Accuracy of NN (1/distance weights): 98.00 %\n"
     ]
    }
   ],
   "source": [
    "for K in range(1,10):\n",
    "    clf = neighbors.KNeighborsClassifier(n_neighbors = K, p = 2, weights = 'distance')\n",
    "    clf.fit(X_train, y_train)\n",
    "    y_pred = clf.predict(X_test)\n",
    "    print(\"Accuracy of NN (1/distance weights): %.2f %%\" %(100*accuracy_score(y_test, y_pred)))"
   ]
  },
  {
   "cell_type": "markdown",
   "id": "12f05d38",
   "metadata": {},
   "source": [
    "Đánh trọng số tùy chọn"
   ]
  },
  {
   "cell_type": "code",
   "execution_count": 31,
   "id": "4638b052",
   "metadata": {},
   "outputs": [
    {
     "name": "stdout",
     "output_type": "stream",
     "text": [
      "Accuracy of 10NN (customized weights): 98.00 %\n"
     ]
    }
   ],
   "source": [
    "def myweight(distances):\n",
    "    sigma2 = .5\n",
    "    return np.exp(-distances**2/sigma2)\n",
    "\n",
    "clf = neighbors.KNeighborsClassifier(n_neighbors = 10, p = 2, weights = myweight)\n",
    "clf.fit(X_train, y_train)\n",
    "y_pred = clf.predict(X_test)\n",
    "\n",
    "print(\"Accuracy of 10NN (customized weights): %.2f %%\" %(100*accuracy_score(y_test, y_pred)))"
   ]
  },
  {
   "cell_type": "code",
   "execution_count": 40,
   "id": "2f776468",
   "metadata": {},
   "outputs": [
    {
     "name": "stdout",
     "output_type": "stream",
     "text": [
      "Accuracy of 5NN for MNISST: 96.88 %\n",
      "Running time: 19.53 s\n"
     ]
    }
   ],
   "source": [
    "# %reset\n",
    "from __future__ import division\n",
    "import numpy as np \n",
    "from mnist import MNIST\n",
    "import matplotlib.pyplot as plt\n",
    "from sklearn import neighbors\n",
    "from sklearn.metrics import accuracy_score\n",
    "\n",
    "import time\n",
    "\n",
    "mndata = MNIST('../kmeans_cluster/asset/MNIST/') # path to your MNIST folder \n",
    "mndata.load_testing()\n",
    "mndata.load_training()\n",
    "X_test = mndata.test_images\n",
    "X_train = mndata.train_images\n",
    "y_test = np.asarray(mndata.test_labels)\n",
    "y_train = np.asarray(mndata.train_labels)\n",
    "\n",
    "# uncomment then run \n",
    "start_time = time.time()\n",
    "clf = neighbors.KNeighborsClassifier(n_neighbors = 5, p = 2)\n",
    "clf.fit(X_train, y_train)\n",
    "y_pred = clf.predict(X_test)\n",
    "end_time = time.time()\n",
    "print(\"Accuracy of 5NN for MNISST: %.2f %%\" %(100*accuracy_score(y_test, y_pred)))\n",
    "print(\"Running time: %.2f s\" %(end_time - start_time))"
   ]
  },
  {
   "cell_type": "code",
   "execution_count": null,
   "id": "120f62d4",
   "metadata": {},
   "outputs": [],
   "source": []
  }
 ],
 "metadata": {
  "kernelspec": {
   "display_name": "Python 3 (ipykernel)",
   "language": "python",
   "name": "python3"
  },
  "language_info": {
   "codemirror_mode": {
    "name": "ipython",
    "version": 3
   },
   "file_extension": ".py",
   "mimetype": "text/x-python",
   "name": "python",
   "nbconvert_exporter": "python",
   "pygments_lexer": "ipython3",
   "version": "3.9.5"
  }
 },
 "nbformat": 4,
 "nbformat_minor": 5
}
