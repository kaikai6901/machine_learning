{
 "cells": [
  {
   "cell_type": "code",
   "execution_count": 1,
   "id": "bd5202fc",
   "metadata": {},
   "outputs": [
    {
     "name": "stdout",
     "output_type": "stream",
     "text": [
      "[[0.67621303 0.75715061 0.73199477]\n",
      " [0.88602207 0.08117508 0.2088231 ]]\n",
      "Frobenius norm of (UU^T - I) = 7.85472177166476e-16\n",
      "\n",
      " S =  [1.44658888 0.55585041] \n",
      "\n",
      "Frobenius norm of (VV^T - I) = 8.261199664419296e-16\n"
     ]
    }
   ],
   "source": [
    "import numpy as np\n",
    "from numpy import linalg as LA\n",
    "\n",
    "m, n = 2, 3\n",
    "A = np.random.rand(m, n)\n",
    "print(A)\n",
    "U, S, V = LA.svd(A)\n",
    "\n",
    "print('Frobenius norm of (UU^T - I) =',LA.norm(U.dot(U.T) - np.eye(m)))\n",
    "print('\\n S = ', S, '\\n')\n",
    "print('Frobenius norm of (VV^T - I) =', LA.norm(V.dot(V.T) - np.eye(n)))"
   ]
  },
  {
   "cell_type": "markdown",
   "id": "4679092d",
   "metadata": {},
   "source": [
    "Lưu ý rằng biến S được trả về chỉ bao gồm các phần tử trên đường chéo của \n",
    "Σ. Biến V trả về là VT"
   ]
  },
  {
   "cell_type": "code",
   "execution_count": null,
   "id": "f354f1b1",
   "metadata": {},
   "outputs": [],
   "source": []
  }
 ],
 "metadata": {
  "kernelspec": {
   "display_name": "Python 3 (ipykernel)",
   "language": "python",
   "name": "python3"
  },
  "language_info": {
   "codemirror_mode": {
    "name": "ipython",
    "version": 3
   },
   "file_extension": ".py",
   "mimetype": "text/x-python",
   "name": "python",
   "nbconvert_exporter": "python",
   "pygments_lexer": "ipython3",
   "version": "3.9.7"
  }
 },
 "nbformat": 4,
 "nbformat_minor": 5
}
