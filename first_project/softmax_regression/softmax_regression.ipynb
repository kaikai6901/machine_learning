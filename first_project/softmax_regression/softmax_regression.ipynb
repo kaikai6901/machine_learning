{
 "cells": [
  {
   "cell_type": "code",
   "execution_count": 2,
   "id": "870f8603",
   "metadata": {},
   "outputs": [
    {
     "name": "stdout",
     "output_type": "stream",
     "text": [
      "[[-0.45801949  0.70267848]\n",
      " [-0.79931721  0.45657653]]\n",
      "[2 0]\n"
     ]
    }
   ],
   "source": [
    "import numpy as np\n",
    "\n",
    "#randomly generate data\n",
    "N = 2 # number of training sample\n",
    "d = 2 # data dimension\n",
    "C = 3 # number of classes\n",
    "\n",
    "X = np.random.randn(d, N)\n",
    "y = np.random.randint(0, 3, (N,))\n",
    "print(X)\n",
    "print(y)"
   ]
  },
  {
   "cell_type": "code",
   "execution_count": 11,
   "id": "c8a8c515",
   "metadata": {},
   "outputs": [
    {
     "name": "stdout",
     "output_type": "stream",
     "text": [
      "[[0 1]\n",
      " [0 0]\n",
      " [1 0]]\n"
     ]
    }
   ],
   "source": [
    "# matrix one hot coding\n",
    "from scipy import sparse\n",
    "def convert_labels(y, C = C):\n",
    "    Y = sparse.coo_matrix((np.ones_like(y),\n",
    "                          (y, np.arange(len(y)))), shape = (C, len(y))).toarray()\n",
    "    print(Y)\n",
    "    return Y\n",
    "Y = convert_labels(y, C)"
   ]
  },
  {
   "cell_type": "code",
   "execution_count": 4,
   "id": "a39697ab",
   "metadata": {},
   "outputs": [],
   "source": [
    "def softmax_stable(Z):\n",
    "    e_Z = np.exp(Z- np.max(Z, axis= 0, keepdims= True))\n",
    "    A = e_Z/e_Z.sum(axis = 0)\n",
    "    # axis = 0 nghia la lay max theo cot, keepdims = True de dam bao phep tru ma tran duoc thuc hien\n",
    "    return A\n",
    "def softmax(Z):\n",
    "    e_Z = np.exp(Z)\n",
    "    A = e_Z/e_Z.sum(axis = 0)\n",
    "    return A\n"
   ]
  },
  {
   "cell_type": "code",
   "execution_count": 5,
   "id": "7028a9e8",
   "metadata": {},
   "outputs": [
    {
     "name": "stdout",
     "output_type": "stream",
     "text": [
      "2.1513119998462616e-10\n"
     ]
    }
   ],
   "source": [
    "# cost or loss function\n",
    "def cost(X, Y, W):\n",
    "    A = softmax(W.T.dot(X))\n",
    "    return -np.sum(Y*np.log(A))\n",
    "W_init = np.random.randn(d, C)\n",
    "\n",
    "def grad(X, Y, W):\n",
    "    A = softmax(W.T.dot(X))\n",
    "    E = A-Y\n",
    "    return X.dot(E.T)\n",
    "def numerical_grad(X, Y, W, cost):\n",
    "    eps = 1e-6\n",
    "    g = np.zeros_like(W)\n",
    "    for i in range(W.shape[0]):\n",
    "         for j in range(W.shape[1]):\n",
    "            W_p = W.copy()\n",
    "            W_n = W.copy()\n",
    "            W_p[i, j] += eps \n",
    "            W_n[i, j] -= eps\n",
    "            g[i,j] = (cost(X, Y, W_p) - cost(X, Y, W_n))/(2*eps)\n",
    "    return g \n",
    "\n",
    "g1 = grad(X, Y, W_init)\n",
    "g2 = numerical_grad(X, Y, W_init, cost)\n",
    "\n",
    "print(np.linalg.norm(g1 - g2))"
   ]
  },
  {
   "cell_type": "code",
   "execution_count": 8,
   "id": "57a9f968",
   "metadata": {},
   "outputs": [
    {
     "name": "stdout",
     "output_type": "stream",
     "text": [
      "[[ 3.39069322 -2.61769193 -3.61173159]\n",
      " [ 3.06892757  0.58568307 -5.71132348]]\n"
     ]
    }
   ],
   "source": [
    "def softmax_regression(X, y, W_init, eta, tol = 1e-4, max_count = 10000):\n",
    "    W = [W_init]\n",
    "    C = W_init.shape[1]\n",
    "    Y = convert_labels(y, C)\n",
    "    it = 0\n",
    "    N = X.shape[1]\n",
    "    d = X.shape[0]\n",
    "    \n",
    "    count = 0\n",
    "    check_w_after = 20\n",
    "    while count < max_count:\n",
    "        #mix data\n",
    "        mix_id = np.random.permutation(N)\n",
    "        for i in mix_id:\n",
    "            xi = X[:, i].reshape(d,1)\n",
    "            yi = Y[:, i].reshape(C, 1)\n",
    "            ai = softmax(np.dot(W[-1].T, xi))\n",
    "            W_new = W[-1] + eta*xi.dot((yi-ai).T)\n",
    "            count+=1\n",
    "            #stop\n",
    "            if count%check_w_after == 0:\n",
    "                if np.linalg.norm(W_new - W[-check_w_after]) < tol:\n",
    "                    return W\n",
    "            W.append(W_new)\n",
    "    return W\n",
    "eta = .05\n",
    "d = X.shape[0]\n",
    "W_init = np.random.randn(d, C)\n",
    "\n",
    "W = softmax_regression(X, y, W_init, eta)\n",
    "print(W[-1])"
   ]
  },
  {
   "cell_type": "code",
   "execution_count": 10,
   "id": "5e14cc14",
   "metadata": {},
   "outputs": [
    {
     "name": "stdout",
     "output_type": "stream",
     "text": [
      "[2 0]\n"
     ]
    }
   ],
   "source": [
    "def pred(W, X):\n",
    "    A = softmax_stable(W.T.dot(X))\n",
    "    return np.argmax(A, axis= 0)\n",
    "print(pred(W[-1], X))"
   ]
  },
  {
   "cell_type": "markdown",
   "id": "6bd995d2",
   "metadata": {},
   "source": [
    "Example"
   ]
  },
  {
   "cell_type": "code",
   "execution_count": 17,
   "id": "f6202173",
   "metadata": {},
   "outputs": [],
   "source": [
    "means = [[2,2], [8,3], [3,6]]\n",
    "cov = [[1,0], [0,1]]\n",
    "N = 500\n",
    "X0 = np.random.multivariate_normal(means[0], cov, N)\n",
    "X1 = np.random.multivariate_normal(means[1], cov, N)\n",
    "X2 = np.random.multivariate_normal(means[2], cov, N)\n",
    "\n",
    "X = np.concatenate((X0, X1, X2), axis = 0).T\n",
    "X = np.concatenate((np.ones((1, 3*N)), X), axis = 0)\n",
    "C = 3\n",
    "\n",
    "original_label = np.asarray([0]*N+[1]*N+[2]*N).T"
   ]
  },
  {
   "cell_type": "code",
   "execution_count": 18,
   "id": "f58a2630",
   "metadata": {},
   "outputs": [
    {
     "data": {
      "image/png": "[encoded data removed]",
      "text/plain": [
       "<Figure size 432x288 with 1 Axes>"
      ]
     },
     "metadata": {
      "needs_background": "light"
     },
     "output_type": "display_data"
    }
   ],
   "source": [
    "import matplotlib.pyplot as plt\n",
    "def display(X, label):\n",
    "    X0 = X[:, label == 0]\n",
    "    X1 = X[:, label == 1]\n",
    "    X2 = X[:, label == 2]\n",
    "    \n",
    "    plt.plot(X0[0,:], X0[1,:], 'b^', markersize = 4, alpha = .8)\n",
    "    plt.plot(X1[0,:], X1[1,:], 'go', markersize = 4, alpha = .8)\n",
    "    plt.plot(X2[0,:], X2[1,:], 'rs', markersize = 4, alpha = .8)\n",
    "    \n",
    "    plt.axis('off')\n",
    "    plt.plot()\n",
    "    plt.show()\n",
    "    \n",
    "display(X[1:, :], original_label)"
   ]
  },
  {
   "cell_type": "code",
   "execution_count": 19,
   "id": "965bf381",
   "metadata": {},
   "outputs": [
    {
     "name": "stdout",
     "output_type": "stream",
     "text": [
      "0\n",
      "[[1 1 1 ... 0 0 0]\n",
      " [0 0 0 ... 0 0 0]\n",
      " [0 0 0 ... 1 1 1]]\n",
      "[[ 7.81660818 -3.76892982 -4.47075726]\n",
      " [-1.80150528  0.51750167 -2.06714517]\n",
      " [-0.76375042 -0.65592783  2.3849074 ]]\n"
     ]
    }
   ],
   "source": [
    "W_init = np.random.randn(X.shape[0], C)\n",
    "W = softmax_regression(X, original_label, W_init, eta)\n",
    "print(W[-1])\n"
   ]
  },
  {
   "cell_type": "code",
   "execution_count": 24,
   "id": "c0ba7921",
   "metadata": {},
   "outputs": [
    {
     "name": "stdout",
     "output_type": "stream",
     "text": [
      "(1, 270400)\n",
      "(3, 270400)\n",
      "[0 0 0 ... 2 2 2]\n"
     ]
    }
   ],
   "source": [
    "xm = np.arange(-2,11,0.025)\n",
    "xlen = len(xm)\n",
    "ym = np.arange(-3,10, 0.025)\n",
    "ylen = len(ym)\n",
    "xx, yy = np.meshgrid(xm,ym)\n",
    "\n",
    "print(np.ones((1, xx.size)).shape)\n",
    "xx1 = xx.ravel().reshape(1, xx.size)\n",
    "yy1 = yy.ravel().reshape(1, yy.size)\n",
    "\n",
    "XX = np.concatenate((np.ones((1, xx.size)), xx1, yy1), axis = 0)\n",
    "\n",
    "print(XX.shape)\n",
    "\n",
    "Z = pred(W[-1], XX)\n",
    "print(Z)"
   ]
  },
  {
   "cell_type": "code",
   "execution_count": 27,
   "id": "b50c61e8",
   "metadata": {},
   "outputs": [
    {
     "data": {
      "image/png": "[encoded data removed]",
      "text/plain": [
       "<Figure size 432x288 with 1 Axes>"
      ]
     },
     "metadata": {},
     "output_type": "display_data"
    }
   ],
   "source": [
    "Z = Z.reshape(xx.shape)\n",
    "\n",
    "CS = plt.contourf(xx, yy, Z, 200, cmap = 'jet', alpha = .1)\n",
    "\n",
    "plt.xlim(-2, 11)\n",
    "plt.ylim(-3, 10)\n",
    "plt.xticks(())\n",
    "plt.yticks(())\n",
    "\n",
    "display(X[1:, :], original_label)\n",
    "plt.show()\n"
   ]
  },
  {
   "cell_type": "code",
   "execution_count": 33,
   "id": "08d9c9fa",
   "metadata": {},
   "outputs": [
    {
     "name": "stdout",
     "output_type": "stream",
     "text": [
      "Accuracy: 92.52 %\n"
     ]
    },
    {
     "name": "stderr",
     "output_type": "stream",
     "text": [
      "c:\\users\\huyho\\appdata\\local\\programs\\python\\python39\\lib\\site-packages\\sklearn\\linear_model\\_logistic.py:763: ConvergenceWarning: lbfgs failed to converge (status=1):\n",
      "STOP: TOTAL NO. of ITERATIONS REACHED LIMIT.\n",
      "\n",
      "Increase the number of iterations (max_iter) or scale the data as shown in:\n",
      "    https://scikit-learn.org/stable/modules/preprocessing.html\n",
      "Please also refer to the documentation for alternative solver options:\n",
      "    https://scikit-learn.org/stable/modules/linear_model.html#logistic-regression\n",
      "  n_iter_i = _check_optimize_result(\n"
     ]
    }
   ],
   "source": [
    "#RESET\n",
    "import numpy as np\n",
    "from mnist import MNIST\n",
    "import matplotlib.pyplot as plt\n",
    "from sklearn import linear_model\n",
    "from sklearn.metrics import accuracy_score\n",
    "\n",
    "mntrain = MNIST('../kmeans_cluster/asset/MNIST/')\n",
    "mntrain.load_training()\n",
    "Xtrain = np.asarray(mntrain.train_images)/255.0\n",
    "ytrain = np.array(mntrain.train_labels.tolist())\n",
    "\n",
    "mntest = MNIST('../kmeans_cluster/asset/MNIST/')\n",
    "mntest.load_testing()\n",
    "Xtest = np.asarray(mntest.test_images)/255.0\n",
    "ytest = np.array(mntest.test_labels.tolist())\n",
    "\n",
    "logreg = linear_model.LogisticRegression(C = 1e5, \n",
    "                    solver = 'lbfgs', multi_class = 'multinomial')\n",
    "logreg.fit(Xtrain, ytrain)\n",
    "\n",
    "y_pred = logreg.predict(Xtest)\n",
    "print(\"Accuracy: %.2f %%\" %(100*accuracy_score(ytest, y_pred.tolist()))\n",
    ")"
   ]
  },
  {
   "cell_type": "code",
   "execution_count": 34,
   "id": "304a44db",
   "metadata": {},
   "outputs": [],
   "source": [
    "Xtrain = np.concatenate((np.ones((Xtrain.shape[0], 1))/255.0, Xtrain), axis = 1)\n",
    "Xtest = np.concatenate((np.ones((Xtest.shape[0], 1))/255.0, Xtest), axis = 1)\n",
    "\n"
   ]
  },
  {
   "cell_type": "code",
   "execution_count": 36,
   "id": "7192d7d7",
   "metadata": {},
   "outputs": [
    {
     "name": "stdout",
     "output_type": "stream",
     "text": [
      "Accuracy: 92.57 %\n"
     ]
    },
    {
     "name": "stderr",
     "output_type": "stream",
     "text": [
      "c:\\users\\huyho\\appdata\\local\\programs\\python\\python39\\lib\\site-packages\\sklearn\\linear_model\\_logistic.py:763: ConvergenceWarning: lbfgs failed to converge (status=1):\n",
      "STOP: TOTAL NO. of ITERATIONS REACHED LIMIT.\n",
      "\n",
      "Increase the number of iterations (max_iter) or scale the data as shown in:\n",
      "    https://scikit-learn.org/stable/modules/preprocessing.html\n",
      "Please also refer to the documentation for alternative solver options:\n",
      "    https://scikit-learn.org/stable/modules/linear_model.html#logistic-regression\n",
      "  n_iter_i = _check_optimize_result(\n"
     ]
    }
   ],
   "source": [
    "logreg = linear_model.LogisticRegression(C=1e5, solver = 'lbfgs', multi_class = 'multinomial')\n",
    "logreg.fit(Xtrain, ytrain)\n",
    "\n",
    "y_pred = logreg.predict(Xtest)\n",
    "print(\"Accuracy: %.2f %%\" %(100*accuracy_score(ytest, y_pred.tolist())))"
   ]
  },
  {
   "cell_type": "code",
   "execution_count": null,
   "id": "6dc9bf6d",
   "metadata": {},
   "outputs": [],
   "source": []
  }
 ],
 "metadata": {
  "kernelspec": {
   "display_name": "Python 3 (ipykernel)",
   "language": "python",
   "name": "python3"
  },
  "language_info": {
   "codemirror_mode": {
    "name": "ipython",
    "version": 3
   },
   "file_extension": ".py",
   "mimetype": "text/x-python",
   "name": "python",
   "nbconvert_exporter": "python",
   "pygments_lexer": "ipython3",
   "version": "3.9.5"
  }
 },
 "nbformat": 4,
 "nbformat_minor": 5
}
